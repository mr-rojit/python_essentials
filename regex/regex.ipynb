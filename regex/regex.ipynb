{
 "cells": [
  {
   "cell_type": "markdown",
   "id": "c0167328",
   "metadata": {},
   "source": [
    "## Regular expression"
   ]
  },
  {
   "cell_type": "code",
   "execution_count": 1,
   "id": "4e0b6716",
   "metadata": {},
   "outputs": [],
   "source": [
    "import re"
   ]
  },
  {
   "cell_type": "markdown",
   "id": "33be94d8",
   "metadata": {},
   "source": [
    "### Search and match\n",
    "The search() function takes the pattern and text to scan, and returns a Match object when the pattern is found. If the pattern is not found, search() returns None."
   ]
  },
  {
   "cell_type": "code",
   "execution_count": 2,
   "id": "8b937a30",
   "metadata": {},
   "outputs": [
    {
     "data": {
      "text/plain": [
       "<re.Match object; span=(12, 17), match='apple'>"
      ]
     },
     "execution_count": 2,
     "metadata": {},
     "output_type": "execute_result"
    }
   ],
   "source": [
    "pattern = \"apple\"\n",
    "sen = \"There is an apple under the apple table\"\n",
    "match = re.search(pattern, sen)\n",
    "match # match object for the first match"
   ]
  },
  {
   "cell_type": "code",
   "execution_count": 3,
   "id": "bd5eace3",
   "metadata": {},
   "outputs": [
    {
     "data": {
      "text/plain": [
       "'apple'"
      ]
     },
     "execution_count": 3,
     "metadata": {},
     "output_type": "execute_result"
    }
   ],
   "source": [
    "# we can get start and end of the match and subset from the actuual sentence\n",
    "sen[12:17]"
   ]
  },
  {
   "cell_type": "markdown",
   "id": "cf12ff84",
   "metadata": {},
   "source": [
    "### Compiling Expressions\n",
    "it is more efficient to compile the expressions a program uses frequently. The compile() function converts an expression string into a RegexObject."
   ]
  },
  {
   "cell_type": "code",
   "execution_count": 4,
   "id": "f9d36c4c",
   "metadata": {},
   "outputs": [
    {
     "data": {
      "text/plain": [
       "<re.Match object; span=(12, 17), match='apple'>"
      ]
     },
     "execution_count": 4,
     "metadata": {},
     "output_type": "execute_result"
    }
   ],
   "source": [
    "regex = re.compile(pattern)\n",
    "regex.search(sen) # matches \"apple\" and returns the match object "
   ]
  },
  {
   "cell_type": "code",
   "execution_count": 5,
   "id": "bba3060c",
   "metadata": {},
   "outputs": [],
   "source": [
    "regex = re.compile('batman')\n",
    "regex.search(sen) # returns None"
   ]
  },
  {
   "cell_type": "markdown",
   "id": "8b12fb22",
   "metadata": {},
   "source": [
    "### Multiple Matching\n",
    "The findall() function returns all of the substrings of the input that match the pattern without overlapping."
   ]
  },
  {
   "cell_type": "code",
   "execution_count": 6,
   "id": "bb37ba37",
   "metadata": {},
   "outputs": [
    {
     "data": {
      "text/plain": [
       "['apples', 'apples', 'apples']"
      ]
     },
     "execution_count": 6,
     "metadata": {},
     "output_type": "execute_result"
    }
   ],
   "source": [
    "sentence = \"There are multiple apples in this apples sentence. ok apples\"\n",
    "pattern = \"apples\"\n",
    "re.findall(pattern, sentence)"
   ]
  },
  {
   "cell_type": "markdown",
   "id": "0ff6e96c",
   "metadata": {},
   "source": [
    "#### Quantifiers\n",
    "\n",
    "* 'ab*',     # a followed by zero or more b\n",
    "* 'ab+',     # a followed by one or more b\n",
    "* 'ab?',     # a followed by zero or one b\n",
    "* 'ab{3}',   # a followed by three b\n",
    "* 'ab{2,3}', # a followed by two to three b (minimun and maximum)"
   ]
  },
  {
   "cell_type": "code",
   "execution_count": 7,
   "id": "c2aea4a9",
   "metadata": {},
   "outputs": [
    {
     "data": {
      "text/plain": [
       "['abb', 'a', 'a', 'abbbb', 'a', 'a', 'a', 'a', 'a']"
      ]
     },
     "execution_count": 7,
     "metadata": {},
     "output_type": "execute_result"
    }
   ],
   "source": [
    "sen = 'abbaaabbbbaaaaa'\n",
    "re.findall('ab*', sen)"
   ]
  },
  {
   "cell_type": "code",
   "execution_count": 8,
   "id": "4f787963",
   "metadata": {},
   "outputs": [
    {
     "data": {
      "text/plain": [
       "['abb', 'abbbb']"
      ]
     },
     "execution_count": 8,
     "metadata": {},
     "output_type": "execute_result"
    }
   ],
   "source": [
    "re.findall('ab+', sen)"
   ]
  },
  {
   "cell_type": "code",
   "execution_count": 9,
   "id": "f229e7e9",
   "metadata": {},
   "outputs": [
    {
     "data": {
      "text/plain": [
       "['ab', 'a', 'a', 'ab', 'a', 'a', 'a', 'a', 'a']"
      ]
     },
     "execution_count": 9,
     "metadata": {},
     "output_type": "execute_result"
    }
   ],
   "source": [
    "re.findall('ab?', sen)"
   ]
  },
  {
   "cell_type": "markdown",
   "id": "d75ec36f",
   "metadata": {},
   "source": [
    "We can use finditer to get match object as a return value"
   ]
  },
  {
   "cell_type": "code",
   "execution_count": 10,
   "id": "e8928fa6",
   "metadata": {},
   "outputs": [
    {
     "name": "stdout",
     "output_type": "stream",
     "text": [
      "<re.Match object; span=(0, 2), match='ab'>\n",
      "<re.Match object; span=(3, 4), match='a'>\n",
      "<re.Match object; span=(4, 5), match='a'>\n",
      "<re.Match object; span=(5, 7), match='ab'>\n",
      "<re.Match object; span=(10, 11), match='a'>\n",
      "<re.Match object; span=(11, 12), match='a'>\n",
      "<re.Match object; span=(12, 13), match='a'>\n",
      "<re.Match object; span=(13, 14), match='a'>\n",
      "<re.Match object; span=(14, 15), match='a'>\n"
     ]
    }
   ],
   "source": [
    "for match in re.finditer('ab?', sen):\n",
    "    print(match)"
   ]
  },
  {
   "cell_type": "code",
   "execution_count": 11,
   "id": "11f0dda1",
   "metadata": {},
   "outputs": [],
   "source": [
    "text = \"\"\"\n",
    "abc 123 \n",
    "Hello world!\n",
    "\n",
    "abc\n",
    "\n",
    "Mr. Rojit\n",
    "Mr. Bill\n",
    "\n",
    "123-456-7899\n",
    "789:321:4567\n",
    "786 538 9032\n",
    "\n",
    "There is good in bad. And (bad) in [good].\n",
    "\n",
    "My site = https://rojitmanandhar.com.np/\n",
    "\n",
    "\"\"\""
   ]
  },
  {
   "cell_type": "markdown",
   "id": "8c3a5ddb",
   "metadata": {},
   "source": [
    "#### Simple search pattern"
   ]
  },
  {
   "cell_type": "code",
   "execution_count": 12,
   "id": "f3ed2907",
   "metadata": {},
   "outputs": [
    {
     "name": "stdout",
     "output_type": "stream",
     "text": [
      "<re.Match object; span=(1, 4), match='abc'>\n",
      "<re.Match object; span=(24, 27), match='abc'>\n"
     ]
    }
   ],
   "source": [
    "abcpattern = re.compile(r'abc')\n",
    "for match in re.finditer(abcpattern, text):\n",
    "    print(match)"
   ]
  },
  {
   "cell_type": "markdown",
   "id": "cb1dea33",
   "metadata": {},
   "source": [
    "using dot(.) to match any character except new line"
   ]
  },
  {
   "cell_type": "code",
   "execution_count": 13,
   "id": "ed85f677",
   "metadata": {},
   "outputs": [],
   "source": [
    "dotpattern = re.compile(r'.')\n",
    "# for match in re.finditer(dotpattern, text):\n",
    "#     print(match)"
   ]
  },
  {
   "cell_type": "markdown",
   "id": "d26478b6",
   "metadata": {},
   "source": [
    "*  \\d : Digit from 0-9\n",
    "*  \\D : Not a digit pattern9"
   ]
  },
  {
   "cell_type": "code",
   "execution_count": 14,
   "id": "06c1d039",
   "metadata": {},
   "outputs": [
    {
     "name": "stdout",
     "output_type": "stream",
     "text": [
      "<re.Match object; span=(5, 6), match='1'>\n",
      "<re.Match object; span=(6, 7), match='2'>\n",
      "<re.Match object; span=(7, 8), match='3'>\n",
      "<re.Match object; span=(49, 50), match='1'>\n",
      "<re.Match object; span=(50, 51), match='2'>\n",
      "<re.Match object; span=(51, 52), match='3'>\n",
      "<re.Match object; span=(53, 54), match='4'>\n",
      "<re.Match object; span=(54, 55), match='5'>\n",
      "<re.Match object; span=(55, 56), match='6'>\n",
      "<re.Match object; span=(57, 58), match='7'>\n",
      "<re.Match object; span=(58, 59), match='8'>\n",
      "<re.Match object; span=(59, 60), match='9'>\n",
      "<re.Match object; span=(60, 61), match='9'>\n",
      "<re.Match object; span=(62, 63), match='7'>\n",
      "<re.Match object; span=(63, 64), match='8'>\n",
      "<re.Match object; span=(64, 65), match='9'>\n",
      "<re.Match object; span=(66, 67), match='3'>\n",
      "<re.Match object; span=(67, 68), match='2'>\n",
      "<re.Match object; span=(68, 69), match='1'>\n",
      "<re.Match object; span=(70, 71), match='4'>\n",
      "<re.Match object; span=(71, 72), match='5'>\n",
      "<re.Match object; span=(72, 73), match='6'>\n",
      "<re.Match object; span=(73, 74), match='7'>\n",
      "<re.Match object; span=(75, 76), match='7'>\n",
      "<re.Match object; span=(76, 77), match='8'>\n",
      "<re.Match object; span=(77, 78), match='6'>\n",
      "<re.Match object; span=(79, 80), match='5'>\n",
      "<re.Match object; span=(80, 81), match='3'>\n",
      "<re.Match object; span=(81, 82), match='8'>\n",
      "<re.Match object; span=(83, 84), match='9'>\n",
      "<re.Match object; span=(84, 85), match='0'>\n",
      "<re.Match object; span=(85, 86), match='3'>\n",
      "<re.Match object; span=(86, 87), match='2'>\n"
     ]
    }
   ],
   "source": [
    "digit_pattern = re.compile(r'\\d')\n",
    "for match in re.finditer(digit_pattern, text):\n",
    "    print(match)"
   ]
  },
  {
   "cell_type": "code",
   "execution_count": 15,
   "id": "b814d8b5",
   "metadata": {},
   "outputs": [],
   "source": [
    "non_digit_pattern = re.compile(r'\\D')\n",
    "for match in re.finditer(non_digit_pattern, text):\n",
    "#     print(match)\n",
    "    pass"
   ]
  },
  {
   "cell_type": "markdown",
   "id": "df69f53d",
   "metadata": {},
   "source": [
    "* \\w : word character (a-z, A-Z, 0-9 and _ )\n",
    "* \\W : non word characters"
   ]
  },
  {
   "cell_type": "code",
   "execution_count": 16,
   "id": "a96c7d9e",
   "metadata": {
    "scrolled": true
   },
   "outputs": [],
   "source": [
    "word_pattern = re.compile(r'\\w')\n",
    "for match in re.finditer(word_pattern, text):\n",
    "#     print(match)\n",
    "    pass"
   ]
  },
  {
   "cell_type": "code",
   "execution_count": 17,
   "id": "4d042391",
   "metadata": {},
   "outputs": [],
   "source": [
    "non_word_pattern = re.compile(r'\\W')\n",
    "for match in re.finditer(non_word_pattern, text):\n",
    "#     print(match)\n",
    "    pass"
   ]
  },
  {
   "cell_type": "markdown",
   "id": "6d946ea1",
   "metadata": {},
   "source": [
    "### Anchoring\n",
    "In addition to describing the content of a pattern to match, you can also specify the relative location in the input text where the pattern should appear using anchoring instructions."
   ]
  },
  {
   "cell_type": "code",
   "execution_count": null,
   "id": "351d78d9",
   "metadata": {},
   "outputs": [],
   "source": []
  },
  {
   "cell_type": "code",
   "execution_count": null,
   "id": "f19d4c63",
   "metadata": {},
   "outputs": [],
   "source": []
  },
  {
   "cell_type": "code",
   "execution_count": null,
   "id": "840d0ebc",
   "metadata": {},
   "outputs": [],
   "source": []
  },
  {
   "cell_type": "code",
   "execution_count": null,
   "id": "621f8d83",
   "metadata": {},
   "outputs": [],
   "source": []
  },
  {
   "cell_type": "code",
   "execution_count": null,
   "id": "31d3dcad",
   "metadata": {},
   "outputs": [],
   "source": []
  }
 ],
 "metadata": {
  "kernelspec": {
   "display_name": "Python 3 (ipykernel)",
   "language": "python",
   "name": "python3"
  },
  "language_info": {
   "codemirror_mode": {
    "name": "ipython",
    "version": 3
   },
   "file_extension": ".py",
   "mimetype": "text/x-python",
   "name": "python",
   "nbconvert_exporter": "python",
   "pygments_lexer": "ipython3",
   "version": "3.11.5"
  }
 },
 "nbformat": 4,
 "nbformat_minor": 5
}
