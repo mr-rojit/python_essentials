{
 "cells": [
  {
   "cell_type": "markdown",
   "id": "562d0efe",
   "metadata": {},
   "source": [
    "## NamedTuple\n",
    "* collections.namedtuple(typename, field_names, *, rename=False, defaults=None, module=None)\n",
    "\n",
    "Python’s namedtuple() is a factory function that allows you to create tuple subclasses with named fields. These fields give you direct access to the values in a given named tuple using the dot notation, like in obj.attr."
   ]
  },
  {
   "cell_type": "code",
   "execution_count": 9,
   "id": "77dde5ad",
   "metadata": {},
   "outputs": [],
   "source": [
    "from collections import namedtuple"
   ]
  },
  {
   "cell_type": "code",
   "execution_count": 10,
   "id": "0084cc76",
   "metadata": {},
   "outputs": [],
   "source": [
    "Person = namedtuple('person', ['name', 'age', 'gender'])\n",
    "p1 = Person('Bill', 54, 'M')"
   ]
  },
  {
   "cell_type": "code",
   "execution_count": 11,
   "id": "4617c5e0",
   "metadata": {},
   "outputs": [
    {
     "name": "stdout",
     "output_type": "stream",
     "text": [
      "Bill\n",
      "54\n",
      "M\n"
     ]
    }
   ],
   "source": [
    "print(p1.name)\n",
    "print(p1.age)\n",
    "print(p1.gender)"
   ]
  },
  {
   "cell_type": "code",
   "execution_count": 35,
   "id": "98057c50",
   "metadata": {},
   "outputs": [
    {
     "data": {
      "text/plain": [
       "{'name': 'Bill', 'age': 54, 'gender': 'M'}"
      ]
     },
     "execution_count": 35,
     "metadata": {},
     "output_type": "execute_result"
    }
   ],
   "source": [
    "# getting named tuble as dict\n",
    "p1._asdict()"
   ]
  },
  {
   "cell_type": "markdown",
   "id": "b3e92a51",
   "metadata": {},
   "source": [
    "#### Named tuple with default value"
   ]
  },
  {
   "cell_type": "code",
   "execution_count": 39,
   "id": "bec4128a",
   "metadata": {},
   "outputs": [],
   "source": [
    "person = namedtuple('person', ['profession', 'country'], defaults=['Developer', 'Nepal'] )\n",
    "p = person('Doctor')"
   ]
  },
  {
   "cell_type": "code",
   "execution_count": 40,
   "id": "e561c6cb",
   "metadata": {},
   "outputs": [
    {
     "data": {
      "text/plain": [
       "'Doctor'"
      ]
     },
     "execution_count": 40,
     "metadata": {},
     "output_type": "execute_result"
    }
   ],
   "source": [
    "p.profession"
   ]
  },
  {
   "cell_type": "code",
   "execution_count": 42,
   "id": "c38b0c4b",
   "metadata": {},
   "outputs": [
    {
     "data": {
      "text/plain": [
       "'Nepal'"
      ]
     },
     "execution_count": 42,
     "metadata": {},
     "output_type": "execute_result"
    }
   ],
   "source": [
    "# country will be taken from default\n",
    "p.country"
   ]
  },
  {
   "cell_type": "code",
   "execution_count": 45,
   "id": "00629787",
   "metadata": {},
   "outputs": [
    {
     "data": {
      "text/plain": [
       "'Doctor'"
      ]
     },
     "execution_count": 45,
     "metadata": {},
     "output_type": "execute_result"
    }
   ],
   "source": [
    "p._replace(profession='Engineer')\n",
    "p.profession"
   ]
  },
  {
   "cell_type": "code",
   "execution_count": 46,
   "id": "d15fe187",
   "metadata": {},
   "outputs": [
    {
     "data": {
      "text/plain": [
       "'Nepal'"
      ]
     },
     "execution_count": 46,
     "metadata": {},
     "output_type": "execute_result"
    }
   ],
   "source": [
    "p.country"
   ]
  },
  {
   "cell_type": "markdown",
   "id": "399839c9",
   "metadata": {},
   "source": [
    "# Deque"
   ]
  },
  {
   "cell_type": "code",
   "execution_count": null,
   "id": "d27e7d82",
   "metadata": {},
   "outputs": [],
   "source": []
  }
 ],
 "metadata": {
  "kernelspec": {
   "display_name": "Python 3 (ipykernel)",
   "language": "python",
   "name": "python3"
  },
  "language_info": {
   "codemirror_mode": {
    "name": "ipython",
    "version": 3
   },
   "file_extension": ".py",
   "mimetype": "text/x-python",
   "name": "python",
   "nbconvert_exporter": "python",
   "pygments_lexer": "ipython3",
   "version": "3.11.5"
  }
 },
 "nbformat": 4,
 "nbformat_minor": 5
}
